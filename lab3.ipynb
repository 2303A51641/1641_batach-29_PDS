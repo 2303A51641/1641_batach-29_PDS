{
  "nbformat": 4,
  "nbformat_minor": 0,
  "metadata": {
    "colab": {
      "provenance": [],
      "authorship_tag": "ABX9TyM6EN3E0RiwRGpN9gAxqfbE",
      "include_colab_link": true
    },
    "kernelspec": {
      "name": "python3",
      "display_name": "Python 3"
    },
    "language_info": {
      "name": "python"
    }
  },
  "cells": [
    {
      "cell_type": "markdown",
      "metadata": {
        "id": "view-in-github",
        "colab_type": "text"
      },
      "source": [
        "<a href=\"https://colab.research.google.com/github/2303A51641/1641_batach-29_PDS/blob/main/lab3.ipynb\" target=\"_parent\"><img src=\"https://colab.research.google.com/assets/colab-badge.svg\" alt=\"Open In Colab\"/></a>"
      ]
    },
    {
      "cell_type": "markdown",
      "source": [],
      "metadata": {
        "id": "JPqHGxLXCLpm"
      }
    },
    {
      "cell_type": "markdown",
      "source": [
        "2D_array"
      ],
      "metadata": {
        "id": "laTAos-1CNLk"
      }
    },
    {
      "cell_type": "code",
      "execution_count": 3,
      "metadata": {
        "colab": {
          "base_uri": "https://localhost:8080/"
        },
        "id": "I8jo1LHGB1s9",
        "outputId": "e691604a-e883-4eca-d583-19a762221a65"
      },
      "outputs": [
        {
          "output_type": "stream",
          "name": "stdout",
          "text": [
            "[[34 51  8  9]\n",
            " [68 81  6 42]\n",
            " [88 19 54 49]\n",
            " [45 83 12 75]]\n",
            "Column-wise means: [58.75 58.5  20.   43.75]\n",
            "Row-wise means: [25.5  49.25 52.5  53.75]\n",
            "Standard Deviation: 27.648462886750142\n",
            "Variance: 764.4375\n",
            "Minimum value: 6\n",
            "Maximum value: 88\n",
            "Index of minimum value: 6\n",
            "Index of maximum value: 8\n"
          ]
        }
      ],
      "source": [
        "import numpy as np\n",
        "\n",
        "test_scores = np.random.randint(0, 101, size=(4, 4))\n",
        "print(test_scores)\n",
        "\n",
        "column_means = np.mean(test_scores, axis=0)\n",
        "row_means = np.mean(test_scores, axis=1)\n",
        "\n",
        "print(\"Column-wise means:\", column_means)\n",
        "print(\"Row-wise means:\", row_means)\n",
        "\n",
        "std_dev = np.std(test_scores)\n",
        "variance = np.var(test_scores)\n",
        "\n",
        "print(\"Standard Deviation:\", std_dev)\n",
        "print(\"Variance:\", variance)\n",
        "\n",
        "min_value = np.min(test_scores)\n",
        "max_value = np.max(test_scores)\n",
        "min_index = np.argmin(test_scores)\n",
        "max_index = np.argmax(test_scores)\n",
        "\n",
        "print(\"Minimum value:\", min_value)\n",
        "print(\"Maximum value:\", max_value)\n",
        "print(\"Index of minimum value:\", min_index)\n",
        "print(\"Index of maximum value:\", max_index)"
      ]
    },
    {
      "cell_type": "markdown",
      "source": [
        "3D_array"
      ],
      "metadata": {
        "id": "4zUC4VWTCkgi"
      }
    },
    {
      "cell_type": "code",
      "source": [
        "import numpy as np\n",
        "\n",
        "rgb_image = np.random.randint(0, 256, size=(3, 3, 3))\n",
        "print(rgb_image)\n",
        "\n",
        "red_channel = rgb_image[:, :, 0]\n",
        "green_channel = rgb_image[:, :, 1]\n",
        "blue_channel = rgb_image[:, :, 2]\n",
        "\n",
        "print(\"Red Channel:\\n\", red_channel)\n",
        "print(\"Green Channel:\\n\", green_channel)\n",
        "print(\"Blue Channel:\\n\", blue_channel)\n",
        "\n",
        "red_mean = np.mean(red_channel)\n",
        "green_mean = np.mean(green_channel)\n",
        "blue_mean = np.mean(blue_channel)\n",
        "\n",
        "print(f\"Average pixel intensity for Red channel: {red_mean}\")\n",
        "print(f\"Average pixel intensity for Green channel: {green_mean}\")\n",
        "print(f\"Average pixel intensity for Blue channel: {blue_mean}\")\n",
        "\n",
        "brightness_increase = 50\n",
        "brightened_image = np.clip(rgb_image + brightness_increase, 0, 255)\n",
        "print(\"Brightened Image (clipped at 255):\\n\", brightened_image)"
      ],
      "metadata": {
        "colab": {
          "base_uri": "https://localhost:8080/"
        },
        "id": "3a5A_UVqCSUo",
        "outputId": "7890bf1d-63a8-44ae-b180-d12cbb7f86c1"
      },
      "execution_count": 5,
      "outputs": [
        {
          "output_type": "stream",
          "name": "stdout",
          "text": [
            "[[[207  99 248]\n",
            "  [ 77  51 173]\n",
            "  [241 230   6]]\n",
            "\n",
            " [[ 75 172  79]\n",
            "  [216 191   5]\n",
            "  [128 129  93]]\n",
            "\n",
            " [[ 39  82 212]\n",
            "  [147 214 239]\n",
            "  [233 138  94]]]\n",
            "Red Channel:\n",
            " [[207  77 241]\n",
            " [ 75 216 128]\n",
            " [ 39 147 233]]\n",
            "Green Channel:\n",
            " [[ 99  51 230]\n",
            " [172 191 129]\n",
            " [ 82 214 138]]\n",
            "Blue Channel:\n",
            " [[248 173   6]\n",
            " [ 79   5  93]\n",
            " [212 239  94]]\n",
            "Average pixel intensity for Red channel: 151.44444444444446\n",
            "Average pixel intensity for Green channel: 145.11111111111111\n",
            "Average pixel intensity for Blue channel: 127.66666666666667\n",
            "Brightened Image (clipped at 255):\n",
            " [[[255 149 255]\n",
            "  [127 101 223]\n",
            "  [255 255  56]]\n",
            "\n",
            " [[125 222 129]\n",
            "  [255 241  55]\n",
            "  [178 179 143]]\n",
            "\n",
            " [[ 89 132 255]\n",
            "  [197 255 255]\n",
            "  [255 188 144]]]\n"
          ]
        }
      ]
    }
  ]
}