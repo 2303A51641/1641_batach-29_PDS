{
  "nbformat": 4,
  "nbformat_minor": 0,
  "metadata": {
    "colab": {
      "provenance": [],
      "authorship_tag": "ABX9TyPJ1N4hNb1j9Phbg4BX7lzT",
      "include_colab_link": true
    },
    "kernelspec": {
      "name": "python3",
      "display_name": "Python 3"
    },
    "language_info": {
      "name": "python"
    }
  },
  "cells": [
    {
      "cell_type": "markdown",
      "metadata": {
        "id": "view-in-github",
        "colab_type": "text"
      },
      "source": [
        "<a href=\"https://colab.research.google.com/github/2303A51641/1641_batach-29_PDS/blob/main/LAB_1.ipynb\" target=\"_parent\"><img src=\"https://colab.research.google.com/assets/colab-badge.svg\" alt=\"Open In Colab\"/></a>"
      ]
    },
    {
      "cell_type": "markdown",
      "source": [],
      "metadata": {
        "id": "kXtTFhBQ-uCl"
      }
    },
    {
      "cell_type": "markdown",
      "source": [
        "question 1"
      ],
      "metadata": {
        "id": "ynU5iyIq-veU"
      }
    },
    {
      "cell_type": "code",
      "execution_count": 1,
      "metadata": {
        "id": "OcZDIICI-TW3"
      },
      "outputs": [],
      "source": [
        "def factorial(n):\n",
        "  if n==0 or n==1:\n",
        "    return 1\n",
        "  else:\n",
        "    return n*factorial(n-1)"
      ]
    },
    {
      "cell_type": "code",
      "source": [
        "number=int(input(\"Enter a number: \"))\n",
        "\n",
        "if(number<0):\n",
        "  print(\"Factorial does not exist for negative numbers\")\n",
        "elif (number<=10):\n",
        "  result=factorial(number)\n",
        "  print(\"The factorial of\",number,\"is\",result)\n",
        "else:\n",
        "  print(\"Factorial is too large\")"
      ],
      "metadata": {
        "colab": {
          "base_uri": "https://localhost:8080/"
        },
        "id": "EeDjOGP0-kPs",
        "outputId": "7d84871d-5970-4602-e553-2b4649d4452b"
      },
      "execution_count": 2,
      "outputs": [
        {
          "output_type": "stream",
          "name": "stdout",
          "text": [
            "Enter a number: 7\n",
            "The factorial of 7 is 5040\n"
          ]
        }
      ]
    },
    {
      "cell_type": "markdown",
      "source": [],
      "metadata": {
        "id": "PXc003LI-o1L"
      }
    },
    {
      "cell_type": "markdown",
      "source": [
        "question 2"
      ],
      "metadata": {
        "id": "wztmabac-qkM"
      }
    },
    {
      "cell_type": "code",
      "source": [
        "def factorial(n):\n",
        "  fact=1\n",
        "  for i in range(1,n+1):\n",
        "    fact *= i\n",
        "  return fact\n",
        "\n",
        "print(factorial(4))"
      ],
      "metadata": {
        "colab": {
          "base_uri": "https://localhost:8080/"
        },
        "id": "1hKd3Wmh-ohk",
        "outputId": "2fa2785f-b919-42cf-9c67-14b40e773c71"
      },
      "execution_count": 3,
      "outputs": [
        {
          "output_type": "stream",
          "name": "stdout",
          "text": [
            "24\n"
          ]
        }
      ]
    }
  ]
}